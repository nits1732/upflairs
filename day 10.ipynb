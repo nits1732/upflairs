{
 "cells": [
  {
   "cell_type": "code",
   "execution_count": 2,
   "metadata": {},
   "outputs": [],
   "source": [
    "import cv2\n",
    "# import skimage as ski\n",
    "# import matplotlib.pyplot as print"
   ]
  },
  {
   "cell_type": "markdown",
   "metadata": {},
   "source": []
  },
  {
   "cell_type": "code",
   "execution_count": 9,
   "metadata": {},
   "outputs": [],
   "source": [
    "img=cv2.imread('crypto.jpg')\n",
    "cv2.imshow('',img)\n",
    "cv2.waitKey(1)\n",
    "\n",
    "# cv2.destroyAllWindows()"
   ]
  },
  {
   "cell_type": "code",
   "execution_count": 4,
   "metadata": {},
   "outputs": [
    {
     "data": {
      "text/plain": [
       "numpy.ndarray"
      ]
     },
     "execution_count": 4,
     "metadata": {},
     "output_type": "execute_result"
    }
   ],
   "source": [
    "type(img)"
   ]
  },
  {
   "cell_type": "code",
   "execution_count": 7,
   "metadata": {},
   "outputs": [
    {
     "data": {
      "text/plain": [
       "(360, 540, 3)"
      ]
     },
     "execution_count": 7,
     "metadata": {},
     "output_type": "execute_result"
    }
   ],
   "source": [
    "img.shape"
   ]
  },
  {
   "cell_type": "code",
   "execution_count": 6,
   "metadata": {},
   "outputs": [
    {
     "data": {
      "text/plain": [
       "array([[[48, 36, 36],\n",
       "        [48, 36, 36],\n",
       "        [48, 36, 36],\n",
       "        ...,\n",
       "        [48, 36, 36],\n",
       "        [48, 36, 36],\n",
       "        [48, 36, 36]],\n",
       "\n",
       "       [[48, 36, 36],\n",
       "        [48, 36, 36],\n",
       "        [48, 36, 36],\n",
       "        ...,\n",
       "        [48, 36, 36],\n",
       "        [48, 36, 36],\n",
       "        [48, 36, 36]],\n",
       "\n",
       "       [[48, 36, 36],\n",
       "        [48, 36, 36],\n",
       "        [48, 36, 36],\n",
       "        ...,\n",
       "        [48, 36, 36],\n",
       "        [48, 36, 36],\n",
       "        [48, 36, 36]],\n",
       "\n",
       "       ...,\n",
       "\n",
       "       [[47, 35, 35],\n",
       "        [47, 35, 35],\n",
       "        [47, 35, 35],\n",
       "        ...,\n",
       "        [47, 35, 35],\n",
       "        [47, 35, 35],\n",
       "        [47, 35, 35]],\n",
       "\n",
       "       [[47, 35, 35],\n",
       "        [47, 35, 35],\n",
       "        [47, 35, 35],\n",
       "        ...,\n",
       "        [47, 35, 35],\n",
       "        [47, 35, 35],\n",
       "        [47, 35, 35]],\n",
       "\n",
       "       [[52, 40, 40],\n",
       "        [52, 40, 40],\n",
       "        [52, 40, 40],\n",
       "        ...,\n",
       "        [52, 40, 40],\n",
       "        [52, 40, 40],\n",
       "        [52, 40, 40]]], dtype=uint8)"
      ]
     },
     "execution_count": 6,
     "metadata": {},
     "output_type": "execute_result"
    }
   ],
   "source": [
    "img"
   ]
  },
  {
   "cell_type": "code",
   "execution_count": 10,
   "metadata": {},
   "outputs": [
    {
     "name": "stderr",
     "output_type": "stream",
     "text": [
      "Matplotlib is building the font cache; this may take a moment.\n"
     ]
    }
   ],
   "source": [
    "import matplotlib.pyplot as plt"
   ]
  },
  {
   "cell_type": "code",
   "execution_count": 12,
   "metadata": {},
   "outputs": [
    {
     "data": {
      "text/plain": [
       "<matplotlib.image.AxesImage at 0x29193aee4a0>"
      ]
     },
     "execution_count": 12,
     "metadata": {},
     "output_type": "execute_result"
    },
    {
     "data": {
      "image/png": "[encoded data removed]",
      "text/plain": [
       "<Figure size 432x288 with 1 Axes>"
      ]
     },
     "metadata": {
      "needs_background": "light"
     },
     "output_type": "display_data"
    }
   ],
   "source": [
    "img1= plt.imread('crypto.jpg')\n",
    "plt.imshow(img1)"
   ]
  },
  {
   "cell_type": "code",
   "execution_count": null,
   "metadata": {},
   "outputs": [],
   "source": []
  }
 ],
 "metadata": {
  "kernelspec": {
   "display_name": "Python 3",
   "language": "python",
   "name": "python3"
  },
  "language_info": {
   "codemirror_mode": {
    "name": "ipython",
    "version": 3
   },
   "file_extension": ".py",
   "mimetype": "text/x-python",
   "name": "python",
   "nbconvert_exporter": "python",
   "pygments_lexer": "ipython3",
   "version": "3.10.2"
  },
  "orig_nbformat": 4
 },
 "nbformat": 4,
 "nbformat_minor": 2
}
