{
 "cells": [
  {
   "attachments": {},
   "cell_type": "markdown",
   "metadata": {},
   "source": []
  },
  {
   "cell_type": "code",
   "execution_count": 2,
   "metadata": {},
   "outputs": [],
   "source": [
    "import cv2\n",
    "import face_recognition as fr\n",
    "import pandas as pd"
   ]
  },
  {
   "cell_type": "code",
   "execution_count": 3,
   "metadata": {},
   "outputs": [
    {
     "ename": "IndexError",
     "evalue": "too many indices for array: array is 2-dimensional, but 3 were indexed",
     "output_type": "error",
     "traceback": [
      "\u001b[1;31m---------------------------------------------------------------------------\u001b[0m",
      "\u001b[1;31mIndexError\u001b[0m                                Traceback (most recent call last)",
      "\u001b[1;32mUntitled-1.ipynb Cell 3\u001b[0m in \u001b[0;36m<cell line: 9>\u001b[1;34m()\u001b[0m\n\u001b[0;32m     <a href='vscode-notebook-cell:Untitled-1.ipynb?jupyter-notebook#W2sdW50aXRsZWQ%3D?line=13'>14</a>\u001b[0m \u001b[39mif\u001b[39;00m \u001b[39mlen\u001b[39m(faces)\u001b[39m==\u001b[39m\u001b[39m1\u001b[39m:\n\u001b[0;32m     <a href='vscode-notebook-cell:Untitled-1.ipynb?jupyter-notebook#W2sdW50aXRsZWQ%3D?line=14'>15</a>\u001b[0m     x,y,w,h\u001b[39m=\u001b[39mfaces[\u001b[39m0\u001b[39m]\n\u001b[1;32m---> <a href='vscode-notebook-cell:Untitled-1.ipynb?jupyter-notebook#W2sdW50aXRsZWQ%3D?line=15'>16</a>\u001b[0m     img_faces\u001b[39m=\u001b[39mimg_grey[y:y\u001b[39m+\u001b[39;49mh, x:x\u001b[39m+\u001b[39;49mw,:]\u001b[39m.\u001b[39mcopy()\n\u001b[0;32m     <a href='vscode-notebook-cell:Untitled-1.ipynb?jupyter-notebook#W2sdW50aXRsZWQ%3D?line=16'>17</a>\u001b[0m     img_faces\u001b[39m=\u001b[39mcv2\u001b[39m.\u001b[39mresize(img_faces,(\u001b[39m400\u001b[39m,\u001b[39m400\u001b[39m),cv2\u001b[39m.\u001b[39mINTER_CUBIC)\n\u001b[0;32m     <a href='vscode-notebook-cell:Untitled-1.ipynb?jupyter-notebook#W2sdW50aXRsZWQ%3D?line=17'>18</a>\u001b[0m     face_encoding\u001b[39m=\u001b[39mfr\u001b[39m.\u001b[39mface_encodings(img_faces)\n",
      "\u001b[1;31mIndexError\u001b[0m: too many indices for array: array is 2-dimensional, but 3 were indexed"
     ]
    }
   ],
   "source": [
    "fd=cv2.CascadeClassifier(cv2.data.haarcascades+'haarcascade_frontalface_default.xml')\n",
    "vid=cv2.VideoCapture(0)\n",
    "# face_data\n",
    "name=input(\"Enter Your Name\")\n",
    "frame_Count=0\n",
    "frame_Limit=20\n",
    "names=[]\n",
    "enc=[]\n",
    "while True:\n",
    "    flag, img=vid.read()\n",
    "    if flag:\n",
    "        img_grey=cv2.cvtColor(img,cv2.COLOR_BGR2GRAY)\n",
    "        faces=fd.detectMultiScale(img_grey,1.1,5)\n",
    "        if len(faces)==1:\n",
    "            x,y,w,h=faces[0]\n",
    "            img_faces=img_grey[y:y+h, x:x+w,:].copy()\n",
    "            img_faces=cv2.resize(img_faces,(400,400),cv2.INTER_CUBIC)\n",
    "            face_encoding=fr.face_encodings(img_faces)\n",
    "            if len(face_encoding)==1:\n",
    "                enc.append(face_encoding)\n",
    "                names.append(name)\n",
    "                frame_Count+=1\n",
    "                if frame_Count==frame_Limit:\n",
    "                    break\n",
    "            # print(face_encoding)\n",
    "        for x,y,w,h in faces:\n",
    "            cv2.rectangle(\n",
    "                img, pt1=(x,y) , pt2=(x+w,y+h) , color=(0,0,255), thickness=2\n",
    "            )\n",
    "        cv2.imshow('preview',img)\n",
    "        key=cv2.waitKey(1)\n",
    "        if key==ord('q'):\n",
    "            break\n",
    "    else:\n",
    "        print('NO Frame')\n",
    "        break\n",
    "data={'names':name,'encoding':enc}\n",
    "pd.DataFrame(data).to_csv('Face_recog.csv')\n",
    "cv2.destroyAllWindows()\n",
    "cv2.waitKey()\n",
    "vid.release()"
   ]
  },
  {
   "cell_type": "code",
   "execution_count": 8,
   "metadata": {},
   "outputs": [
    {
     "ename": "NameError",
     "evalue": "name 'face_encoding' is not defined",
     "output_type": "error",
     "traceback": [
      "\u001b[1;31m---------------------------------------------------------------------------\u001b[0m",
      "\u001b[1;31mNameError\u001b[0m                                 Traceback (most recent call last)",
      "\u001b[1;32mUntitled-1.ipynb Cell 4\u001b[0m in \u001b[0;36m<cell line: 1>\u001b[1;34m()\u001b[0m\n\u001b[1;32m----> <a href='vscode-notebook-cell:Untitled-1.ipynb?jupyter-notebook#W3sdW50aXRsZWQ%3D?line=0'>1</a>\u001b[0m face_encoding[\u001b[39m0\u001b[39m]\u001b[39m.\u001b[39mshape\n",
      "\u001b[1;31mNameError\u001b[0m: name 'face_encoding' is not defined"
     ]
    }
   ],
   "source": [
    "face_encoding[0].shape"
   ]
  },
  {
   "cell_type": "code",
   "execution_count": 6,
   "metadata": {},
   "outputs": [],
   "source": [
    "cv2.destroyAllWindows()"
   ]
  },
  {
   "cell_type": "code",
   "execution_count": null,
   "metadata": {},
   "outputs": [],
   "source": []
  }
 ],
 "metadata": {
  "kernelspec": {
   "display_name": "Python 3",
   "language": "python",
   "name": "python3"
  },
  "language_info": {
   "codemirror_mode": {
    "name": "ipython",
    "version": 3
   },
   "file_extension": ".py",
   "mimetype": "text/x-python",
   "name": "python",
   "nbconvert_exporter": "python",
   "pygments_lexer": "ipython3",
   "version": "3.10.2"
  },
  "orig_nbformat": 4
 },
 "nbformat": 4,
 "nbformat_minor": 2
}
