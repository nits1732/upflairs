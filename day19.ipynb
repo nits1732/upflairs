{
 "cells": [
  {
   "cell_type": "code",
   "execution_count": 55,
   "metadata": {},
   "outputs": [],
   "source": [
    "import nltk\n",
    "from nltk.chat.util import Chat, reflections\n",
    "import pyttsx3\n",
    "import speech_recognition as sr\n",
    "import flask"
   ]
  },
  {
   "cell_type": "code",
   "execution_count": 46,
   "metadata": {},
   "outputs": [
    {
     "data": {
      "text/plain": [
       "{'i am': 'you are',\n",
       " 'i was': 'you were',\n",
       " 'i': 'you',\n",
       " \"i'm\": 'you are',\n",
       " \"i'd\": 'you would',\n",
       " \"i've\": 'you have',\n",
       " \"i'll\": 'you will',\n",
       " 'my': 'your',\n",
       " 'you are': 'I am',\n",
       " 'you were': 'I was',\n",
       " \"you've\": 'I have',\n",
       " \"you'll\": 'I will',\n",
       " 'your': 'my',\n",
       " 'yours': 'mine',\n",
       " 'you': 'me',\n",
       " 'me': 'you'}"
      ]
     },
     "execution_count": 46,
     "metadata": {},
     "output_type": "execute_result"
    }
   ],
   "source": [
    "reflections"
   ]
  },
  {
   "cell_type": "code",
   "execution_count": 47,
   "metadata": {},
   "outputs": [],
   "source": [
    "# nltk.download('all')"
   ]
  },
  {
   "cell_type": "code",
   "execution_count": 48,
   "metadata": {},
   "outputs": [],
   "source": [
    "rules=[\n",
    "    # (tuple(ques,list(answer)))\n",
    "    (r'aj garmi(.*)hai',['Mujhe nhi pata %1','Mai kyu batau',],),\n",
    "    (r'How would I learn nltk',['You may refer to the official doc',],),\n",
    "    (r'aur batao kuch naya taza',['only maza','sab masti','kya hi btau',],),\n",
    "    (r'Hello',['Hy','hello there',],),\n",
    "]"
   ]
  },
  {
   "cell_type": "code",
   "execution_count": 49,
   "metadata": {},
   "outputs": [
    {
     "name": "stdout",
     "output_type": "stream",
     "text": [
      "Question aj garmi(.*)hai\n",
      "Answer ['Mujhe nhi pata %1', 'Mai kyu batau']\n",
      "\t Mujhe nhi pata %1\n",
      "\t Mai kyu batau\n",
      "--------------------\n",
      "Question How would I learn nltk\n",
      "Answer ['You may refer to the official doc']\n",
      "\t You may refer to the official doc\n",
      "--------------------\n",
      "Question aur batao kuch naya taza\n",
      "Answer ['only maza', 'sab masti', 'kya hi btau']\n",
      "\t only maza\n",
      "\t sab masti\n",
      "\t kya hi btau\n",
      "--------------------\n",
      "Question Hello\n",
      "Answer ['Hy', 'hello there']\n",
      "\t Hy\n",
      "\t hello there\n",
      "--------------------\n"
     ]
    }
   ],
   "source": [
    "for que,ans in rules:\n",
    "    print('Question',que)\n",
    "    print('Answer',ans)\n",
    "    for a in ans:\n",
    "        print('\\t',a)\n",
    "    print('-'*20)"
   ]
  },
  {
   "cell_type": "code",
   "execution_count": 50,
   "metadata": {},
   "outputs": [],
   "source": [
    "ch=Chat(rules,reflections)"
   ]
  },
  {
   "cell_type": "code",
   "execution_count": 51,
   "metadata": {},
   "outputs": [],
   "source": [
    "spEng=pyttsx3.init()\n",
    "spEng.setProperty('rate',100)"
   ]
  },
  {
   "cell_type": "code",
   "execution_count": 52,
   "metadata": {},
   "outputs": [],
   "source": [
    "# recognizer=sr.Recognizer()\n",
    "# with sr.Microphone() as mic:\n",
    "#     print('say:',end=' ')\n",
    "#     audio=recognizer.listen(mic,timeout=1,phrase_time_limit=1)\n",
    "#     try:\n",
    "#         question=recognizer.recognize_google(audio)\n",
    "#         print(question)\n",
    "#         resp=ch.respond(question)\n",
    "#         spEng.say(resp)\n",
    "#         spEng.runAndWait()\n",
    "#     except Exception as err:\n",
    "#         print(err)\n",
    "#         print(\"Could Not Recognise\")\n"
   ]
  },
  {
   "cell_type": "code",
   "execution_count": 53,
   "metadata": {},
   "outputs": [
    {
     "name": "stdout",
     "output_type": "stream",
     "text": [
      "Mujhe nhi pata  kitni \n"
     ]
    }
   ],
   "source": [
    "question=input('Apna Swala pucho')\n",
    "resp=ch.respond(question)\n",
    "print(resp)\n"
   ]
  },
  {
   "cell_type": "code",
   "execution_count": 54,
   "metadata": {},
   "outputs": [],
   "source": [
    "# ch.converse()"
   ]
  },
  {
   "cell_type": "code",
   "execution_count": null,
   "metadata": {},
   "outputs": [],
   "source": [
    "# flask=web framework"
   ]
  },
  {
   "cell_type": "markdown",
   "metadata": {},
   "source": [
    "Regular Expressiom\n",
    "() capture and group\n",
    ". any charater expect new line\n",
    "[] set of charater\n",
    "* zero or more occurances\n",
    "a-z all small alphabet\n",
    "A-Z all uppercase alphabet\n",
    "0-9 all numbers\n",
    "$ ending with\n",
    "? zero or one occurance only\n",
    "+ one or more occurances \n",
    "{} exact number of occurances\n",
    "\\w only word charaters: alphabet, numbers,and underscore\n",
    "\\W not word charater "
   ]
  },
  {
   "cell_type": "code",
   "execution_count": 58,
   "metadata": {},
   "outputs": [],
   "source": [
    "def specialwala(f):\n",
    "    def ekor():\n",
    "        print('HI')\n",
    "        f()\n",
    "        print('bye')\n",
    "    return ekor"
   ]
  },
  {
   "cell_type": "code",
   "execution_count": 59,
   "metadata": {},
   "outputs": [],
   "source": [
    "def simple():\n",
    "    print('wow')"
   ]
  },
  {
   "cell_type": "code",
   "execution_count": 60,
   "metadata": {},
   "outputs": [
    {
     "name": "stdout",
     "output_type": "stream",
     "text": [
      "wow\n"
     ]
    }
   ],
   "source": [
    "simple()"
   ]
  },
  {
   "cell_type": "code",
   "execution_count": 61,
   "metadata": {},
   "outputs": [],
   "source": [
    "simple=specialwala(simple)"
   ]
  },
  {
   "cell_type": "code",
   "execution_count": 67,
   "metadata": {},
   "outputs": [
    {
     "name": "stdout",
     "output_type": "stream",
     "text": [
      "HI\n",
      "wow\n",
      "bye\n"
     ]
    }
   ],
   "source": [
    "simple()"
   ]
  },
  {
   "cell_type": "code",
   "execution_count": 64,
   "metadata": {},
   "outputs": [],
   "source": [
    "@specialwala\n",
    "def ekSimple():\n",
    "    print('Nice')"
   ]
  },
  {
   "cell_type": "code",
   "execution_count": 65,
   "metadata": {},
   "outputs": [
    {
     "name": "stdout",
     "output_type": "stream",
     "text": [
      "HI\n",
      "Nice\n",
      "bye\n"
     ]
    }
   ],
   "source": [
    "ekSimple()"
   ]
  },
  {
   "cell_type": "code",
   "execution_count": null,
   "metadata": {},
   "outputs": [],
   "source": []
  }
 ],
 "metadata": {
  "kernelspec": {
   "display_name": "Python 3",
   "language": "python",
   "name": "python3"
  },
  "language_info": {
   "codemirror_mode": {
    "name": "ipython",
    "version": 3
   },
   "file_extension": ".py",
   "mimetype": "text/x-python",
   "name": "python",
   "nbconvert_exporter": "python",
   "pygments_lexer": "ipython3",
   "version": "3.10.2"
  },
  "orig_nbformat": 4
 },
 "nbformat": 4,
 "nbformat_minor": 2
}
