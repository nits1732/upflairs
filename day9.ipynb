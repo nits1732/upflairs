{
 "cells": [
  {
   "cell_type": "code",
   "execution_count": 1,
   "metadata": {},
   "outputs": [],
   "source": [
    "import numpy as np"
   ]
  },
  {
   "cell_type": "code",
   "execution_count": 4,
   "metadata": {},
   "outputs": [
    {
     "name": "stderr",
     "output_type": "stream",
     "text": [
      "C:\\Users\\Nityash\\AppData\\Local\\Temp\\ipykernel_29632\\4019233207.py:14: UserWarning: loadtxt: input contained no data: \"new_file.txt\"\n",
      "  r=np.loadtxt('new_file.txt',dtype=str)\n"
     ]
    }
   ],
   "source": [
    "# np.one(4,3)\n",
    "# np.zeros(3,6 , dtype=int)\n",
    "# np.range(1,11,1)\n",
    "# np.linspace(1,10,10, dtype=int)\n",
    "list(range(1,10,1))\n",
    "# in range only integer value can be given\n",
    "np.random.randint(1,6,1)\n",
    "np.random.randint(1,6,[4,3,2])\n",
    "# to stabalize the randomness \n",
    "np.random.randint(31,6000,[4,3])\n",
    "np.random.seed(54)\n",
    "#GENERATE NUMBER FROM 0.0 1\n",
    "np.random.rand(3)\n",
    "r=np.loadtxt('new_file.txt',dtype=str)"
   ]
  },
  {
   "cell_type": "code",
   "execution_count": 6,
   "metadata": {},
   "outputs": [
    {
     "data": {
      "text/plain": [
       "array([['Hi', '!', 'there'],\n",
       "       ['New', 'file', 'outside']], dtype='<U7')"
      ]
     },
     "execution_count": 6,
     "metadata": {},
     "output_type": "execute_result"
    }
   ],
   "source": [
    "r= np.loadtxt('new_file.txt', dtype=str)\n",
    "r"
   ]
  },
  {
   "cell_type": "code",
   "execution_count": 10,
   "metadata": {},
   "outputs": [
    {
     "ename": "ValueError",
     "evalue": "the number of columns changed from 3 to 4 at row 3; use `usecols` to select a subset and avoid this error",
     "output_type": "error",
     "traceback": [
      "\u001b[1;31m---------------------------------------------------------------------------\u001b[0m",
      "\u001b[1;31mValueError\u001b[0m                                Traceback (most recent call last)",
      "\u001b[1;32mUntitled-2.ipynb Cell 4\u001b[0m in \u001b[0;36m<cell line: 1>\u001b[1;34m()\u001b[0m\n\u001b[1;32m----> <a href='vscode-notebook-cell:Untitled-2.ipynb?jupyter-notebook#W3sdW50aXRsZWQ%3D?line=0'>1</a>\u001b[0m p\u001b[39m=\u001b[39mnp\u001b[39m.\u001b[39;49mloadtxt(\u001b[39m'\u001b[39;49m\u001b[39mnew_file.txt\u001b[39;49m\u001b[39m'\u001b[39;49m,dtype\u001b[39m=\u001b[39;49m\u001b[39mstr\u001b[39;49m)\n\u001b[0;32m      <a href='vscode-notebook-cell:Untitled-2.ipynb?jupyter-notebook#W3sdW50aXRsZWQ%3D?line=1'>2</a>\u001b[0m p\n",
      "File \u001b[1;32mc:\\Python310\\lib\\site-packages\\numpy\\lib\\npyio.py:1308\u001b[0m, in \u001b[0;36mloadtxt\u001b[1;34m(fname, dtype, comments, delimiter, converters, skiprows, usecols, unpack, ndmin, encoding, max_rows, quotechar, like)\u001b[0m\n\u001b[0;32m   1305\u001b[0m \u001b[39mif\u001b[39;00m \u001b[39misinstance\u001b[39m(delimiter, \u001b[39mbytes\u001b[39m):\n\u001b[0;32m   1306\u001b[0m     delimiter \u001b[39m=\u001b[39m delimiter\u001b[39m.\u001b[39mdecode(\u001b[39m'\u001b[39m\u001b[39mlatin1\u001b[39m\u001b[39m'\u001b[39m)\n\u001b[1;32m-> 1308\u001b[0m arr \u001b[39m=\u001b[39m _read(fname, dtype\u001b[39m=\u001b[39;49mdtype, comment\u001b[39m=\u001b[39;49mcomment, delimiter\u001b[39m=\u001b[39;49mdelimiter,\n\u001b[0;32m   1309\u001b[0m             converters\u001b[39m=\u001b[39;49mconverters, skiplines\u001b[39m=\u001b[39;49mskiprows, usecols\u001b[39m=\u001b[39;49musecols,\n\u001b[0;32m   1310\u001b[0m             unpack\u001b[39m=\u001b[39;49munpack, ndmin\u001b[39m=\u001b[39;49mndmin, encoding\u001b[39m=\u001b[39;49mencoding,\n\u001b[0;32m   1311\u001b[0m             max_rows\u001b[39m=\u001b[39;49mmax_rows, quote\u001b[39m=\u001b[39;49mquotechar)\n\u001b[0;32m   1313\u001b[0m \u001b[39mreturn\u001b[39;00m arr\n",
      "File \u001b[1;32mc:\\Python310\\lib\\site-packages\\numpy\\lib\\npyio.py:1006\u001b[0m, in \u001b[0;36m_read\u001b[1;34m(fname, delimiter, comment, quote, imaginary_unit, usecols, skiplines, max_rows, converters, ndmin, unpack, dtype, encoding)\u001b[0m\n\u001b[0;32m   1003\u001b[0m \u001b[39melse\u001b[39;00m:\n\u001b[0;32m   1004\u001b[0m     chunk_size \u001b[39m=\u001b[39m \u001b[39mmin\u001b[39m(_loadtxt_chunksize, max_rows)\n\u001b[1;32m-> 1006\u001b[0m next_arr \u001b[39m=\u001b[39m _load_from_filelike(\n\u001b[0;32m   1007\u001b[0m     data, delimiter\u001b[39m=\u001b[39;49mdelimiter, comment\u001b[39m=\u001b[39;49mcomment, quote\u001b[39m=\u001b[39;49mquote,\n\u001b[0;32m   1008\u001b[0m     imaginary_unit\u001b[39m=\u001b[39;49mimaginary_unit,\n\u001b[0;32m   1009\u001b[0m     usecols\u001b[39m=\u001b[39;49musecols, skiplines\u001b[39m=\u001b[39;49mskiplines, max_rows\u001b[39m=\u001b[39;49mmax_rows,\n\u001b[0;32m   1010\u001b[0m     converters\u001b[39m=\u001b[39;49mconverters, dtype\u001b[39m=\u001b[39;49mdtype,\n\u001b[0;32m   1011\u001b[0m     encoding\u001b[39m=\u001b[39;49mencoding, filelike\u001b[39m=\u001b[39;49mfilelike,\n\u001b[0;32m   1012\u001b[0m     byte_converters\u001b[39m=\u001b[39;49mbyte_converters,\n\u001b[0;32m   1013\u001b[0m     c_byte_converters\u001b[39m=\u001b[39;49mc_byte_converters)\n\u001b[0;32m   1014\u001b[0m \u001b[39m# Cast here already.  We hope that this is better even for\u001b[39;00m\n\u001b[0;32m   1015\u001b[0m \u001b[39m# large files because the storage is more compact.  It could\u001b[39;00m\n\u001b[0;32m   1016\u001b[0m \u001b[39m# be adapted (in principle the concatenate could cast).\u001b[39;00m\n\u001b[0;32m   1017\u001b[0m chunks\u001b[39m.\u001b[39mappend(next_arr\u001b[39m.\u001b[39mastype(read_dtype_via_object_chunks))\n",
      "\u001b[1;31mValueError\u001b[0m: the number of columns changed from 3 to 4 at row 3; use `usecols` to select a subset and avoid this error"
     ]
    }
   ],
   "source": [
    "p=np.loadtxt('new_file.txt',dtype=str)\n",
    "p"
   ]
  },
  {
   "cell_type": "code",
   "execution_count": null,
   "metadata": {},
   "outputs": [],
   "source": []
  }
 ],
 "metadata": {
  "kernelspec": {
   "display_name": "Python 3",
   "language": "python",
   "name": "python3"
  },
  "language_info": {
   "codemirror_mode": {
    "name": "ipython",
    "version": 3
   },
   "file_extension": ".py",
   "mimetype": "text/x-python",
   "name": "python",
   "nbconvert_exporter": "python",
   "pygments_lexer": "ipython3",
   "version": "3.10.2"
  },
  "orig_nbformat": 4
 },
 "nbformat": 4,
 "nbformat_minor": 2
}
